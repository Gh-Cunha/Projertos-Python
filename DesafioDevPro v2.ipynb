{
  "nbformat": 4,
  "nbformat_minor": 0,
  "metadata": {
    "colab": {
      "name": "Cópia de DesafioDevPro.ipynb",
      "provenance": [],
      "toc_visible": true,
      "authorship_tag": "ABX9TyMn0Khdu9wLBRkSEunRwTGL",
      "include_colab_link": true
    },
    "kernelspec": {
      "name": "python3",
      "display_name": "Python 3"
    },
    "language_info": {
      "name": "python"
    }
  },
  "cells": [
    {
      "cell_type": "markdown",
      "metadata": {
        "id": "view-in-github",
        "colab_type": "text"
      },
      "source": [
        "<a href=\"https://colab.research.google.com/github/Gh-Cunha/Projertos-Python/blob/main/C%C3%B3pia_de_DesafioDevPro.ipynb\" target=\"_parent\"><img src=\"https://colab.research.google.com/assets/colab-badge.svg\" alt=\"Open In Colab\"/></a>"
      ]
    },
    {
      "cell_type": "markdown",
      "source": [
        "# Desavio Devpro"
      ],
      "metadata": {
        "id": "aXFhqJMTAbKq"
      }
    },
    {
      "cell_type": "markdown",
      "source": [
        "Neste notebook vamos resolver vários exercicios da [lista da Python Brasil](https://wiki.python.org.br/ListaDeExercicios) "
      ],
      "metadata": {
        "id": "qU-jQCmbA6S4"
      }
    },
    {
      "cell_type": "markdown",
      "source": [
        "# [Estrutura Sequencial](https://wiki.python.org.br/EstruturaSequencial)"
      ],
      "metadata": {
        "id": "UJPigftZBrvl"
      }
    },
    {
      "cell_type": "markdown",
      "source": [
        "Exercício 1"
      ],
      "metadata": {
        "id": "HQaRJtWvCCRj"
      }
    },
    {
      "cell_type": "code",
      "execution_count": null,
      "metadata": {
        "colab": {
          "base_uri": "https://localhost:8080/"
        },
        "id": "axI2ccESANbb",
        "outputId": "d828f7d8-e0fb-46f0-8704-c4d6dce02e30"
      },
      "outputs": [
        {
          "output_type": "stream",
          "name": "stdout",
          "text": [
            "Olá Mundo!\n"
          ]
        }
      ],
      "source": [
        "print('Olá Mundo!')"
      ]
    },
    {
      "cell_type": "markdown",
      "source": [
        "Exercício 2\n"
      ],
      "metadata": {
        "id": "4bnMqbc32o2P"
      }
    },
    {
      "cell_type": "code",
      "source": [
        "numero = input(\"Digite um número: \")\n",
        "print(f'O número informado foi {numero}')\n",
        "  \n"
      ],
      "metadata": {
        "colab": {
          "base_uri": "https://localhost:8080/"
        },
        "id": "JaXOMshRC3lO",
        "outputId": "34b2734c-d720-4bb3-ecdf-b69b66a62b0c"
      },
      "execution_count": null,
      "outputs": [
        {
          "output_type": "stream",
          "name": "stdout",
          "text": [
            "Digite um número: 47\n",
            "O número informado foi 47\n"
          ]
        }
      ]
    },
    {
      "cell_type": "markdown",
      "source": [
        "Exercício 3"
      ],
      "metadata": {
        "id": "qqfwyXPP2xGv"
      }
    },
    {
      "cell_type": "code",
      "source": [
        "n1 = int(input('Digite um número: '))\n",
        "n2 = int(input('Digite outro número: '))\n",
        "soma = n1 + n2 \n",
        "print(f'O resultado é {soma}')"
      ],
      "metadata": {
        "colab": {
          "base_uri": "https://localhost:8080/"
        },
        "id": "N4Vv6bh9F1Bc",
        "outputId": "c9bde4a1-599a-4fdb-984f-799edd19a235"
      },
      "execution_count": null,
      "outputs": [
        {
          "output_type": "stream",
          "name": "stdout",
          "text": [
            "Digite um número: 100\n",
            "Digite outro número: 235\n",
            "O resultado é 335\n"
          ]
        }
      ]
    },
    {
      "cell_type": "markdown",
      "source": [
        "Exercício 4\n"
      ],
      "metadata": {
        "id": "I4P_Xspk9-IE"
      }
    },
    {
      "cell_type": "code",
      "source": [
        "nota1 = int(input('Digite a primeira nota: '))\n",
        "nota2 = int(input('Digite a segunda nota: '))\n",
        "nota3 = int(input('Digite a terceira nota: '))\n",
        "nota4 = int(input('Digite a quarta nota: '))\n",
        "media = float(nota1 + nota2 + nota3 + nota4) /4\n",
        "print(f'a media é: {media}')"
      ],
      "metadata": {
        "colab": {
          "base_uri": "https://localhost:8080/"
        },
        "id": "x8AXAR67-Id0",
        "outputId": "541dc3f5-40ab-486c-927a-70caab359df4"
      },
      "execution_count": null,
      "outputs": [
        {
          "output_type": "stream",
          "name": "stdout",
          "text": [
            "Digite a primeira nota: 2\n",
            "Digite a segunda nota: 5\n",
            "Digite a terceira nota: 4\n",
            "Digite a quarta nota: 9\n",
            "a media é: 5.0\n"
          ]
        }
      ]
    },
    {
      "cell_type": "markdown",
      "source": [
        "Exercício 5\n"
      ],
      "metadata": {
        "id": "o02PBn7vGhKF"
      }
    },
    {
      "cell_type": "code",
      "source": [
        "metros = float(input('Digite o valor em metros: '))\n",
        "cent = metros * 100\n",
        "\n",
        "print(f'a conversão é: {cent}')\n"
      ],
      "metadata": {
        "colab": {
          "base_uri": "https://localhost:8080/"
        },
        "id": "llrc2ktlJnSz",
        "outputId": "a08a945d-2db2-4f11-b0e4-6fa7acd817ec"
      },
      "execution_count": null,
      "outputs": [
        {
          "output_type": "stream",
          "name": "stdout",
          "text": [
            "Digite o valor em metros: 21\n",
            "a conversão é: 2100.0\n"
          ]
        }
      ]
    },
    {
      "cell_type": "markdown",
      "source": [
        "Exercício 6 "
      ],
      "metadata": {
        "id": "8h5Fw8gMw2wi"
      }
    },
    {
      "cell_type": "code",
      "source": [
        "raio = float(input('Digite o valor do raio: '))\n",
        "circuferencia = 2  * 3.14 * raio\n",
        "print(f'A circunferência do raio e de : {circuferencia}')"
      ],
      "metadata": {
        "colab": {
          "base_uri": "https://localhost:8080/"
        },
        "id": "v9aGETityRyh",
        "outputId": "a721624f-9310-4e94-c241-95d5e9aec946"
      },
      "execution_count": null,
      "outputs": [
        {
          "output_type": "stream",
          "name": "stdout",
          "text": [
            "Digite o valor do raio: 50\n",
            "A circunferência do raio e de : 314.0\n"
          ]
        }
      ]
    },
    {
      "cell_type": "markdown",
      "source": [
        "Exercício 7 "
      ],
      "metadata": {
        "id": "sBsZmjAw1TUJ"
      }
    },
    {
      "cell_type": "code",
      "source": [
        "lado = float(input('Digite o  lado do quadrado:  '))\n",
        "calculo = lado**2\n",
        "print(f'A área do  quadrado  é: {calculo}')\n",
        "print(f'o dobro da area do  quadrado é: {calculo*2}')\n"
      ],
      "metadata": {
        "colab": {
          "base_uri": "https://localhost:8080/"
        },
        "id": "joNpyK2f1WBy",
        "outputId": "91e8dade-47ad-4997-dc7a-01cbaff8bba7"
      },
      "execution_count": null,
      "outputs": [
        {
          "output_type": "stream",
          "name": "stdout",
          "text": [
            "Digite o  lado do quadrado:  2\n",
            "A área do  quadrado  é: 4.0\n",
            "o dobro da area do  quadrado   é: 8.0\n"
          ]
        }
      ]
    },
    {
      "cell_type": "markdown",
      "source": [
        "Exercício 8"
      ],
      "metadata": {
        "id": "ZKqsuQ1w5xhc"
      }
    },
    {
      "cell_type": "code",
      "source": [
        "gh = int(input('Quanto você ganha por hora?: '))\n",
        "hm = int(input('Horas trabalhadas: '))\n",
        "print('Seu salário é R$',(hm*gh))"
      ],
      "metadata": {
        "colab": {
          "base_uri": "https://localhost:8080/"
        },
        "id": "YB-N1zhw52M2",
        "outputId": "a8b68e84-7f5a-4605-8f68-e1baf96d643d"
      },
      "execution_count": null,
      "outputs": [
        {
          "output_type": "stream",
          "name": "stdout",
          "text": [
            "Quanto você ganha por hora?: 20\n",
            "Horas trabalhadas: 50\n",
            "Seu salário é R$ 1000\n"
          ]
        }
      ]
    },
    {
      "cell_type": "code",
      "source": [
        "# mesmo exercício que o de cima , porem feito de outra forma , solução da internet\n",
        "\n",
        "Vh = float (input('digite o valor da hora trabalhada: '))\n",
        "\n",
        "Vm = float (input('digite a quantidade de horas trabalhadas no mês: '))\n",
        "\n",
        "print('Valor Total de horas trabalhadas no mês R$ ', (Vh * Vm))"
      ],
      "metadata": {
        "colab": {
          "base_uri": "https://localhost:8080/"
        },
        "id": "73_Tkm2DBRVm",
        "outputId": "2e19857d-8822-425a-a2b5-b5567d3a0eba"
      },
      "execution_count": null,
      "outputs": [
        {
          "output_type": "stream",
          "name": "stdout",
          "text": [
            "digite o valor da hora trabalhada: 7\n",
            "digite a quantidade de horas trabalhadas no mês: 5.6\n",
            "Valor Total de horas trabalhadas no mês R$  39.199999999999996\n"
          ]
        }
      ]
    },
    {
      "cell_type": "markdown",
      "source": [
        "exercício 9 \n"
      ],
      "metadata": {
        "id": "EgqwqrTKD9wg"
      }
    },
    {
      "cell_type": "code",
      "source": [
        "clima_tf = float(input('Digite a temperatura: '))\n",
        "temperatura_f =  5 * ((clima_tf-32) / 9)\n",
        "print(f'a temperatura em Celsius é: {temperatura_f}')"
      ],
      "metadata": {
        "colab": {
          "base_uri": "https://localhost:8080/"
        },
        "id": "--P0XIBtEBqZ",
        "outputId": "b5dbaece-58cd-430d-e381-71e66559faa8"
      },
      "execution_count": null,
      "outputs": [
        {
          "output_type": "stream",
          "name": "stdout",
          "text": [
            "Digite a temperatura: 50\n",
            "a temperatura em Celsius é: 10.0\n"
          ]
        }
      ]
    },
    {
      "cell_type": "markdown",
      "source": [
        "Exercício 10"
      ],
      "metadata": {
        "id": "DpePJIqRK2de"
      }
    },
    {
      "cell_type": "code",
      "source": [
        "clima_gr = float(input('Digite a temperatura: '))\n",
        " \n",
        "print(f'a temperatura em Fahrenheit é:',(clima_gr * (9/5)+32))"
      ],
      "metadata": {
        "colab": {
          "base_uri": "https://localhost:8080/"
        },
        "id": "SmfhxWv_LQFj",
        "outputId": "8ea26ac6-4873-4409-b8cf-d245efc5b3c4"
      },
      "execution_count": null,
      "outputs": [
        {
          "output_type": "stream",
          "name": "stdout",
          "text": [
            "Digite a temperatura: 50\n",
            "a temperatura em Fahrenheit é: 122.0\n"
          ]
        }
      ]
    },
    {
      "cell_type": "markdown",
      "source": [
        "Exercício 11"
      ],
      "metadata": {
        "id": "yyunXeeDq7WS"
      }
    },
    {
      "cell_type": "code",
      "source": [
        "n1 = int(input('Digite um número inteiro: '))\n",
        "n2 = int(input('Digite outro número inteiro: '))\n",
        "n3 = float(input('Digite um número real: '))\n",
        "op1 = n1 *2, n2 / 2\n",
        "op2 = n1 *3 + n3\n",
        "op3 = n3 **3\n",
        "print(f'o resultado é: {op1}')\n",
        "print(f'o resultado é: {op2}')\n",
        "print(f'o resultado é: {op3}')"
      ],
      "metadata": {
        "colab": {
          "base_uri": "https://localhost:8080/"
        },
        "id": "C4AD1rPlrAjm",
        "outputId": "0732c9b1-872f-4bad-c99f-24ee16366e2a"
      },
      "execution_count": null,
      "outputs": [
        {
          "output_type": "stream",
          "name": "stdout",
          "text": [
            "Digite um número inteiro: 25\n",
            "Digite outro número inteiro: 10\n",
            "Digite um número real: 2.6\n",
            "o resultado é: (50, 5.0)\n",
            "o resultado é: 77.6\n",
            "o resultado é: 17.576\n"
          ]
        }
      ]
    },
    {
      "cell_type": "markdown",
      "source": [
        "Exercício 12"
      ],
      "metadata": {
        "id": "DmHCyFsUwhlu"
      }
    },
    {
      "cell_type": "code",
      "source": [
        "altura = float(input('Digite sua altura: '))\n",
        "imc = (72.7 * altura) - 58\n",
        "print(f'O seu peso ideal é: {imc}')"
      ],
      "metadata": {
        "colab": {
          "base_uri": "https://localhost:8080/"
        },
        "id": "eY0e06mzwk1C",
        "outputId": "684e470d-dac8-47d1-ddae-4126555f1048"
      },
      "execution_count": null,
      "outputs": [
        {
          "output_type": "stream",
          "name": "stdout",
          "text": [
            "Digite sua altura: 1.70\n",
            "O seu peso ideal é: 65.59\n"
          ]
        }
      ]
    },
    {
      "cell_type": "markdown",
      "source": [
        "exercício 13"
      ],
      "metadata": {
        "id": "OA4hNH3xzLOY"
      }
    },
    {
      "cell_type": "code",
      "source": [
        "# h  = altura \n",
        "# sx = sexo\n",
        "h= float(input('Digite sua altura: '))\n",
        "sx = input('digite o seu  sexo: ')\n",
        "rg = h, sx\n",
        "if rg:\n",
        "  imc = (72.7 * h) - 58\n",
        "  print(f'Altura de um: {sx}')\n",
        "else:\n",
        "  imc = (62.1 * h) - 44.7\n",
        "  print(f'Altura de uma: {sx}')\n",
        "print(f'O seu peso ideal é: {imc}')"
      ],
      "metadata": {
        "colab": {
          "base_uri": "https://localhost:8080/"
        },
        "id": "_sO1ClHczNgq",
        "outputId": "462333ae-cac8-4120-928d-b8a9f169478c"
      },
      "execution_count": null,
      "outputs": [
        {
          "output_type": "stream",
          "name": "stdout",
          "text": [
            "Digite sua altura: 1.68 \n",
            "digite o seu  sexo: homem\n",
            "Altura de um: homem\n",
            "O seu peso ideal é: 64.136\n"
          ]
        }
      ]
    },
    {
      "cell_type": "markdown",
      "source": [
        "Exercício 14  ( fazer outra hora sozinho)"
      ],
      "metadata": {
        "id": "8uKCuthaDZ6O"
      }
    },
    {
      "cell_type": "code",
      "source": [
        "peso_de_peixes = eval(input('Quantos quiloso peixe tem: '))\n",
        "if peso_de_peixes > 50:\n",
        "  peso_excesso = peso_de_peixes - 50\n",
        "  multa = 4 * peso_excesso\n",
        "  print(f'Hoje João pescou {peso_de_peixes}Kg de peixes, {peso_excesso}Kg a mais que o estabelecido pelo regulamento e isso gerou uma multa de R${multa:.2f}')\n",
        "else:\n",
        "  print(f'Hoje João pescou {peso_de_peixes}Kg de peixes, está dentro do limite estabelecido pelo regulamento')"
      ],
      "metadata": {
        "colab": {
          "base_uri": "https://localhost:8080/"
        },
        "id": "0VXPG2ELDeSl",
        "outputId": "093cdaf1-2241-4464-8fa4-cf69f9f969c0"
      },
      "execution_count": null,
      "outputs": [
        {
          "output_type": "stream",
          "name": "stdout",
          "text": [
            "Quantos quiloso peixe tem: 29\n",
            "Hoje João pescou 29Kg de peixes, está dentro do limite estabelecido pelo regulamento\n"
          ]
        }
      ]
    },
    {
      "cell_type": "markdown",
      "source": [
        "Exercício 19"
      ],
      "metadata": {
        "id": "0NrbCSKXYMHg"
      }
    },
    {
      "cell_type": "code",
      "source": [
        "numero = int(input('Digite um valor: '))\n",
        "centenas_str = dezenas_str = unidades_str = ''\n",
        "\n",
        "centenas_int, numero = divmod(numero, 100)\n",
        "\n",
        "partes_numericas = 0\n",
        "\n",
        "if centenas_int == 1:\n",
        "  centenas_str='1 centena'\n",
        "  partes_numericas += 1\n",
        "elif centenas_int > 1:\n",
        "  centenas_str=f'{centenas_int} centenas'\n",
        "  partes_numericas += 1\n",
        "\n",
        "dezenas_int, numero = divmod(numero, 10)\n",
        "\n",
        "if dezenas_int == 1:\n",
        "  dezenas_str='1 dezena'\n",
        "  partes_numericas += 1\n",
        "elif dezenas_int > 1:\n",
        "  dezenas_str=f'{dezenas_int} dezenas'\n",
        "  partes_numericas += 1\n",
        "\n",
        "if numero == 1:\n",
        "  unidades_str='1 unidade'\n",
        "  partes_numericas += 1\n",
        "elif numero > 1:\n",
        "  unidades_str=f'{numero} unidades'\n",
        "  partes_numericas += 1\n",
        "\n",
        "if partes_numericas == 0:\n",
        "  print('Numero 0 não possui centenas,dezenas ou unidades')\n",
        "elif partes_numericas == 1:\n",
        "  print(centenas_str,dezenas_str, unidades_str)\n",
        "elif partes_numericas == 3:\n",
        "  print(f'{centenas_str}, {dezenas_str} e {unidades_str}')\n",
        "elif partes_numericas == 2:\n",
        "  if centenas_str != '':\n",
        "    segunda_parte = dezenas_str + unidades_str\n",
        "    print(f'{centenas_str} e {segunda_parte}')\n",
        "  else:\n",
        "    print(f'{dezenas_str} e {unidades_str}')\n",
        "\n"
      ],
      "metadata": {
        "colab": {
          "base_uri": "https://localhost:8080/"
        },
        "id": "tZhl7fD0fbq1",
        "outputId": "fa321fb3-4cbc-455a-f83d-894bcc85c9d3"
      },
      "execution_count": null,
      "outputs": [
        {
          "output_type": "stream",
          "name": "stdout",
          "text": [
            "Digite um valor: 558\n",
            "5 centenas, 5 dezenas e 8 unidades\n"
          ]
        }
      ]
    },
    {
      "cell_type": "markdown",
      "source": [
        "Exercício 17 (lembrete , fazer dnv sem olhar o video, realmente tena fazer sozinho).\n"
      ],
      "metadata": {
        "id": "oWUseHExfQIk"
      }
    },
    {
      "cell_type": "code",
      "source": [
        "import math\n",
        "\n",
        "area_ser_pintada =int(input('Digite a área, em  metros quadrados a ser pintada: ')) \n",
        "# area em metros quadrados\n",
        "area_com_folga = area_ser_pintada * 1.1\n",
        "litros_por_metro = 6\n",
        "litros_a_serem_usados = area_com_folga / litros_por_metro\n",
        "litros_por_lata = 18\n",
        "numero_de_latas =math.ceil( litros_a_serem_usados / litros_por_lata)\n",
        "valor_com_apenas_latas = numero_de_latas * 80\n",
        "print(f'Você deverá usar {numero_de_latas} latas de 18 litros, no valor de R$ {valor_com_apenas_latas}')\n",
        "\n",
        "litros_por_galao = 3.6\n",
        "numero_de_galoes =math.ceil( litros_a_serem_usados / litros_por_galao)\n",
        "valor_com_apenas_galoes = numero_de_galoes * 25\n",
        "print(f'Você deverá usar {numero_de_galoes} galões de 3.6 litros, no valor de R$ {valor_com_apenas_galoes}')\n",
        "\n",
        "\n",
        "# compra de tinta otmizada por valor\n",
        "numero_de_latas =math.floor( litros_a_serem_usados / litros_por_lata)\n",
        "valor_de_latas = numero_de_latas * 80\n",
        "litros_faltantes = litros_a_serem_usados % litros_por_lata\n",
        "numero_de_galoes =math.ceil( litros_faltantes / litros_por_galao)\n",
        "valor_com_apenas_galoes = numero_de_galoes * 25\n",
        "\n",
        "valor_total = valor_de_latas + valor_com_apenas_galoes\n",
        "\n",
        "print(f'Você deverá usar {numero_de_latas} latas de 18 litros mais {numero_de_galoes} galões de 3.6 litros, no valor de R$ {valor_total}')\n",
        "\n",
        "\n"
      ],
      "metadata": {
        "id": "opmqU3tbfT9R"
      },
      "execution_count": null,
      "outputs": []
    },
    {
      "cell_type": "markdown",
      "source": [
        "# [ Estrutura De Decisão](https://wiki.python.org.br/EstruturaDeDecisao//)"
      ],
      "metadata": {
        "id": "H7JgkUwgFpMM"
      }
    },
    {
      "cell_type": "markdown",
      "source": [
        "Exercício 1 "
      ],
      "metadata": {
        "id": "6_xmcc6ysMjc"
      }
    },
    {
      "cell_type": "code",
      "source": [
        "pedir_numero = float(input('Digite um número: '))\n",
        "pedir_numero2 = int(input('Digite outro número: '))\n",
        "if pedir_numero > pedir_numero2:\n",
        "  print(f'{pedir_numero} é o maior número')\n",
        "else:\n",
        "   print(f'{pedir_numero2} é o maior número')"
      ],
      "metadata": {
        "id": "no2C00XpsRtk",
        "colab": {
          "base_uri": "https://localhost:8080/"
        },
        "outputId": "7e4d4cc4-3726-4b6f-bb10-926fbf38ab1c"
      },
      "execution_count": null,
      "outputs": [
        {
          "output_type": "stream",
          "name": "stdout",
          "text": [
            "Digite um número: 15\n",
            "Digite outro número: 2\n",
            "15.0 é o maior número\n"
          ]
        }
      ]
    },
    {
      "cell_type": "markdown",
      "source": [
        "Exercício 2\n",
        "\n",
        "\n",
        "\n"
      ],
      "metadata": {
        "id": "PH4o8ITJvK3w"
      }
    },
    {
      "cell_type": "code",
      "source": [
        "peça_um_valor = int(input('Digite um valor'))\n",
        "if peça_um_valor >= 0:\n",
        "  print(f'o número {peça_um_valor} é positivo')\n",
        "else:\n",
        "  print(f'O  número {peça_um_valor} é negativo')\n"
      ],
      "metadata": {
        "id": "NupBhAqRvJ-1",
        "colab": {
          "base_uri": "https://localhost:8080/"
        },
        "outputId": "5628c090-1038-47ff-b784-34105cd75492"
      },
      "execution_count": null,
      "outputs": [
        {
          "output_type": "stream",
          "name": "stdout",
          "text": [
            "Digite um valor-50\n",
            "O  número -50 é negativo\n"
          ]
        }
      ]
    },
    {
      "cell_type": "markdown",
      "source": [
        "Exercício 3\n"
      ],
      "metadata": {
        "id": "bmZqPQXo2yr-"
      }
    },
    {
      "cell_type": "code",
      "source": [
        "sexo = str(input('Digite (F)-Feminino, (M)-Masculino: ').upper())\n",
        "if sexo == 'F':\n",
        "  print(\"Sexo Femiminino\")\n",
        "elif sexo == 'M':\n",
        "  print('Sexo Masculino')\n",
        "else:\n",
        "  print('Sexo Invalido')\n",
        "# quando  for usar o  recurso  de pegar strings no imput usar o  str\n"
      ],
      "metadata": {
        "id": "NUIotNVV26Nx"
      },
      "execution_count": null,
      "outputs": []
    },
    {
      "cell_type": "markdown",
      "source": [
        "Exercício 4"
      ],
      "metadata": {
        "id": "ObxmBm5A7U7s"
      }
    },
    {
      "cell_type": "code",
      "source": [
        "letra = str(input('Digite uma letra').lower())\n",
        "if letra == 'a' or letra == 'e' or letra == 'i' or letra == 'u':\n",
        "  print('Vogal')\n",
        "else:\n",
        "  print('Consoante')\n",
        "# se for usar a função 'or' repita a variavel varia veses porem na frente do \n",
        "# objeto. \n"
      ],
      "metadata": {
        "id": "Ejo9Me5I7YO_"
      },
      "execution_count": null,
      "outputs": []
    },
    {
      "cell_type": "markdown",
      "source": [
        "Exercício 5"
      ],
      "metadata": {
        "id": "U-lJf22sD1kF"
      }
    },
    {
      "cell_type": "code",
      "source": [
        "np1 = float(input('Digite a 1ª nota: '))\n",
        "np2 = float(input('Digite a 2ª nota: ')) \n",
        "cdm = np1 + np2 / 2\n",
        "if cdm >= 7 and cdm <10:\n",
        "  print('Aprovado')\n",
        "elif cdm >= 10:\n",
        "  print('Aprovado com Distinção')\n",
        "else:\n",
        "  print('Reprovado')"
      ],
      "metadata": {
        "id": "d2bSA_lhD4co",
        "colab": {
          "base_uri": "https://localhost:8080/"
        },
        "outputId": "3bd2fcb1-2d72-4677-bc71-87cbac7b0fe3"
      },
      "execution_count": null,
      "outputs": [
        {
          "output_type": "stream",
          "name": "stdout",
          "text": [
            "Digite a 1ª nota: 8\n",
            "Digite a 2ª nota: 10\n",
            "Aprovado com Distinção\n"
          ]
        }
      ]
    },
    {
      "cell_type": "markdown",
      "source": [
        "Exercício 6"
      ],
      "metadata": {
        "id": "py_ZgIAQGIN4"
      }
    },
    {
      "cell_type": "code",
      "source": [
        "nm1 = float(input('Digite o 1º número'))\n",
        "nm2 = float(input('Digite o 2º número'))\n",
        "nm3 = float(input('Digite o 3º número'))\n",
        "if nm1 > nm2 and nm3:\n",
        "    print(f'{nm1}, é o  maior número')\n",
        "elif nm2 > nm1 and nm3:\n",
        "    print(f'{nm2}, é o maior número')\n",
        "elif nm3 > nm1 and nm2:\n",
        "    print(f'{nm3}, é o maior número')\n",
        "elif nm1 == nm2 and nm1 and nm2 > nm3:\n",
        "    print(f'{nm1}, é o maior número')\n",
        "elif nm1 == nm3 and nm1 and nm3 > nm2:\n",
        "    print(f'{n1}, é o maior número')\n",
        "elif nm2 == nm3 and nm2 and nm3 > nm1:\n",
        "    print(f'{n2}, é o maior número')"
      ],
      "metadata": {
        "id": "C0pM1s75GK0m"
      },
      "execution_count": null,
      "outputs": []
    },
    {
      "cell_type": "markdown",
      "source": [
        "Exercício 21"
      ],
      "metadata": {
        "id": "dMZicCXrtx6s"
      }
    },
    {
      "cell_type": "code",
      "source": [
        "print('Bem  Vindo \\n')\n",
        "caixa_eletro = int(input('Forneça o  valor do  saque '))\n",
        "n1 = 1\n",
        "n2 = 5 \n",
        "n3 = 10\n",
        "n4 = 50\n",
        "n5 = 100\n",
        "if caixa_eletro == 256:\n",
        "  print(n5*n5, n2, n1)\n",
        "elif caixa_eletro == 399:\n",
        "  print(n5*3, n4, n3*4,n2,n1*4)\n",
        "else:\n",
        "  print('Valor incorreto')\n",
        "print(caixa_eletro)"
      ],
      "metadata": {
        "id": "B07L8SZjt0x1"
      },
      "execution_count": null,
      "outputs": []
    },
    {
      "cell_type": "markdown",
      "source": [
        "Correção do exercício 21 "
      ],
      "metadata": {
        "id": "ejNZ95GA3kgu"
      }
    },
    {
      "cell_type": "code",
      "source": [
        "saque = int(input('Forneça o valor de saque: '))\n",
        "nota_de_100 = notas_de_50 = notas_de_10 = notas_de_5 = notas_de_1 = 0\n",
        "\n",
        "notas_de_100, saque = divmod(saque, 100)\n",
        "\n",
        "notas_de_50, saque = divmod(saque, 50)\n",
        "\n",
        "notas_de_10, saque = divmod(saque, 10)\n",
        "\n",
        "notas_de_5, notas_de_1 = divmod(saque, 5)\n",
        "\n",
        "if notas_de_100 > 0 :\n",
        "  print(f'{notas_de_100} nota(s) de 100')\n",
        "\n",
        "if notas_de_50 > 0 :\n",
        "  print(f'{notas_de_50} nota(s) de 50')\n",
        "\n",
        "if notas_de_10 > 0 :\n",
        "  print(f'{notas_de_10} nota(s) de 10')\n",
        "\n",
        "if notas_de_5 > 0 :\n",
        "  print(f'{notas_de_5} nota(s) de 5')\n",
        "\n",
        "if notas_de_1 > 0 :\n",
        "  print(f'{notas_de_1} nota(s) de 1')\n"
      ],
      "metadata": {
        "colab": {
          "base_uri": "https://localhost:8080/"
        },
        "id": "5nDX1kaE3n7P",
        "outputId": "b1dfbc5e-f6d9-464f-dec9-f43895c5891f"
      },
      "execution_count": null,
      "outputs": [
        {
          "output_type": "stream",
          "name": "stdout",
          "text": [
            "Forneça o valor de saque: 399\n",
            "3 nota(s) de 100\n",
            "1 nota(s) de 50\n",
            "4 nota(s) de 10\n",
            "1 nota(s) de 5\n",
            "4 nota(s) de 1\n"
          ]
        }
      ]
    },
    {
      "cell_type": "markdown",
      "source": [
        "[Estrutura de Repetição](https://wiki.python.org.br/EstruturaDeRepeticao)"
      ],
      "metadata": {
        "id": "1YF9CjFhfs_q"
      }
    },
    {
      "cell_type": "markdown",
      "source": [
        "exercício 1"
      ],
      "metadata": {
        "id": "Ox2HNJzigG8I"
      }
    },
    {
      "cell_type": "code",
      "source": [
        "while True:\n",
        "  try:\n",
        "    numero = int(input('digite um  valor de 0 a 10: '))\n",
        "  except ValueError:\n",
        "    print('Deve ser fornecido um Valor Inteirro')\n",
        "  else:\n",
        "    if 0<= numero <= 10:\n",
        "      print(f'Número informado é: {numero}')\n",
        "      break\n",
        "    print('O número deve estra entre o  e 10')\n",
        "\n",
        "\n",
        " \n",
        "  \n"
      ],
      "metadata": {
        "id": "VgxzhVuOgJ0t"
      },
      "execution_count": null,
      "outputs": []
    },
    {
      "cell_type": "markdown",
      "source": [
        "Exercício 2"
      ],
      "metadata": {
        "id": "9EbNPOhyH-_J"
      }
    },
    {
      "cell_type": "code",
      "source": [
        ""
      ],
      "metadata": {
        "id": "fRAFh0D-IAqP"
      },
      "execution_count": null,
      "outputs": []
    },
    {
      "cell_type": "markdown",
      "source": [
        "Exercício 4"
      ],
      "metadata": {
        "id": "hUohRoyB8qM_"
      }
    },
    {
      "cell_type": "code",
      "source": [
        "A = 80_000\n",
        "B = 200_000\n",
        "tempo = 0\n",
        "\n",
        "while A < B:\n",
        "    A = int(A * 1.03)\n",
        "    B *= 1.015\n",
        "    B = int(B)\n",
        "    tempo = tempo + 1\n",
        "\n",
        "print(f'######## Populações no ano {tempo}')\n",
        "print(f'População de A: {A}')\n",
        "print(f'População de A: {B}')"
      ],
      "metadata": {
        "colab": {
          "base_uri": "https://localhost:8080/"
        },
        "id": "DG-nHMGA8_fJ",
        "outputId": "52786630-6f19-4fbb-80b6-f31e81196fb3"
      },
      "execution_count": null,
      "outputs": [
        {
          "output_type": "stream",
          "name": "stdout",
          "text": [
            "######## Populações no ano 63\n",
            "População de A: 514954\n",
            "População de A: 510908\n"
          ]
        }
      ]
    },
    {
      "cell_type": "markdown",
      "source": [
        "Exercício 7\n"
      ],
      "metadata": {
        "id": "tGJmwWDypEcl"
      }
    },
    {
      "cell_type": "code",
      "source": [
        "maximo = float(input('Digite um número: '))\n",
        "\n",
        "for _ in range(4):\n",
        "  maximo = max(maximo,float(input('Digite um número: ')))\n",
        "  print(f'Número maximo encontrado até agora é: {maximo}')"
      ],
      "metadata": {
        "id": "PdPO00aLpIye"
      },
      "execution_count": null,
      "outputs": []
    },
    {
      "cell_type": "markdown",
      "source": [
        "Exercício 8"
      ],
      "metadata": {
        "id": "MHkeRLPJeICg"
      }
    },
    {
      "cell_type": "code",
      "source": [
        "soma = float(input('Digite um número: '))\n",
        "\n",
        "for n in range(2, 6):\n",
        "  soma += float(input('Digite um número: '))\n",
        "  media = soma / n\n",
        "  print(f'Soma dos números é : {soma}, e a média {media}')"
      ],
      "metadata": {
        "colab": {
          "base_uri": "https://localhost:8080/"
        },
        "id": "glfhO816eKyW",
        "outputId": "9a5219ee-afe7-47f0-9586-d87a8b753e57"
      },
      "execution_count": null,
      "outputs": [
        {
          "output_type": "stream",
          "name": "stdout",
          "text": [
            "Digite um número: 2\n",
            "Digite um número: 4\n",
            "Soma dos números é : 6.0, e a média 3.0\n",
            "Digite um número: 2\n",
            "Soma dos números é : 8.0, e a média 2.6666666666666665\n",
            "Digite um número: 4\n",
            "Soma dos números é : 12.0, e a média 3.0\n",
            "Digite um número: 65\n",
            "Soma dos números é : 77.0, e a média 15.4\n"
          ]
        }
      ]
    },
    {
      "cell_type": "markdown",
      "source": [
        "[Lista](https://wiki.python.org.br/ExerciciosListas)"
      ],
      "metadata": {
        "id": "HyqnAccmvTJU"
      }
    },
    {
      "cell_type": "markdown",
      "source": [
        "exercício 1 de lista / vetor"
      ],
      "metadata": {
        "id": "3W6ocXda63CN"
      }
    },
    {
      "cell_type": "code",
      "source": [
        "lista = [1, 2, 'olá', []]\n",
        "lista.append(10)\n",
        "print(lista)"
      ],
      "metadata": {
        "id": "ZYOreEgZ7Ltz"
      },
      "execution_count": null,
      "outputs": []
    },
    {
      "cell_type": "code",
      "source": [
        "lista =[]\n",
        "for _ in range(5) :\n",
        "  numero = float(input('Digite um número: '))\n",
        "  lista.append(numero)\n",
        "print(lista)"
      ],
      "metadata": {
        "id": "ohiUr0Pb79hg"
      },
      "execution_count": null,
      "outputs": []
    },
    {
      "cell_type": "markdown",
      "source": [
        "Exercício 2"
      ],
      "metadata": {
        "id": "n_eZWRAgkTDi"
      }
    },
    {
      "cell_type": "code",
      "source": [
        "lista =[]\n",
        "for _ in range(10) :\n",
        "  numero = float(input('Digite um número: '))\n",
        "  lista.append(numero)\n",
        "  lista.reverse()\n",
        "print(lista)"
      ],
      "metadata": {
        "colab": {
          "base_uri": "https://localhost:8080/"
        },
        "id": "8s0RdslKkW4k",
        "outputId": "1ffce31b-7b34-4001-ecdc-15165d43e015"
      },
      "execution_count": null,
      "outputs": [
        {
          "output_type": "stream",
          "name": "stdout",
          "text": [
            "Digite um número: 6.9\n",
            "Digite um número: 50.6\n",
            "Digite um número: 200\n",
            "Digite um número: 80.4\n",
            "Digite um número: 60.5\n",
            "Digite um número: 230\n",
            "Digite um número: 30.20\n",
            "Digite um número: 60.89\n",
            "Digite um número: 50.2\n",
            "Digite um número: 89.5\n",
            "[89.5, 60.89, 230.0, 80.4, 50.6, 6.9, 200.0, 60.5, 30.2, 50.2]\n"
          ]
        }
      ]
    },
    {
      "cell_type": "markdown",
      "source": [
        "exercício 15 de lista / vetor "
      ],
      "metadata": {
        "id": "QbZJ7_1O900m"
      }
    },
    {
      "cell_type": "code",
      "source": [
        "notas = [] # refazer com o  tempo \n",
        "\n",
        "while True:\n",
        "  Entrada = input('Digite um número: ')\n",
        "  if Entrada == '-1':\n",
        "    break\n",
        "  notas.append(float(Entrada))\n",
        "\n",
        "\n",
        "tamanho = len(notas)\n",
        "print(f'Foram lidas {tamanho} notas')\n",
        "print(' '.join([str(nota) for nota in notas]))\n",
        "notas.reverse()\n",
        "for nota in notas:\n",
        "  print(nota)\n",
        "\n",
        "soma = sum(notas)\n",
        "\n",
        "print(f'Soma das notas é: {soma}')\n",
        "\n",
        "media = soma / tamanho\n",
        "\n",
        "print(f'A média das notas  é: {media}')\n",
        "\n",
        "print(' '.join([str(nota) for nota in notas if nota > media]))\n",
        "\n",
        "print(f'NOtas abaixo de 7: {notas}')\n",
        "\n",
        "print(' '.join([str(nota) for nota in notas if nota < 7]))\n",
        "\n",
        "print('Isso e tudo pessoal')"
      ],
      "metadata": {
        "id": "NtWKbkbV-CMm",
        "colab": {
          "base_uri": "https://localhost:8080/"
        },
        "outputId": "7f71a270-b3fd-4b6d-824b-418d05934647"
      },
      "execution_count": null,
      "outputs": [
        {
          "output_type": "stream",
          "name": "stdout",
          "text": [
            "Digite um número: 10\n",
            "Digite um número: 5\n",
            "Digite um número: 1\n",
            "Digite um número: -1\n",
            "Foram lidas 3 notas\n",
            "10.0 5.0 1.0\n",
            "1.0\n",
            "5.0\n",
            "10.0\n",
            "Soma das notas é: 16.0\n",
            "A média das notas  é: 5.333333333333333\n",
            "10.0\n",
            "NOtas abaixo de 7: [1.0, 5.0, 10.0]\n",
            "1.0 5.0\n",
            "Isso e tudo pessoal\n"
          ]
        }
      ]
    },
    {
      "cell_type": "markdown",
      "source": [
        "Ex 16 "
      ],
      "metadata": {
        "id": "wOfWr5ruVbew"
      }
    },
    {
      "cell_type": "code",
      "source": [
        "salarios = [200, 250, 320, 413, 516, 680, 791, 877, 999, 1000, 2000, 3000]\n",
        "contagem_de_faixa_salarial = [0] * 9\n",
        "for salario in salarios:\n",
        "  indice = salario // 100 -2\n",
        "  indice_maximo = len(contagem_de_faixa_salarial) -1\n",
        "  indice = min(indice, indice_maximo)\n",
        "  contagem_de_faixa_salarial[indice] += 1\n",
        "\n",
        "print(contagem_de_faixa_salarial)"
      ],
      "metadata": {
        "colab": {
          "base_uri": "https://localhost:8080/"
        },
        "id": "IDGuKYpGVfTb",
        "outputId": "2b3695a5-d068-401c-c04a-61f44ee4107b"
      },
      "execution_count": null,
      "outputs": [
        {
          "output_type": "stream",
          "name": "stdout",
          "text": [
            "[2, 1, 1, 1, 1, 1, 1, 1, 3]\n"
          ]
        }
      ]
    },
    {
      "cell_type": "markdown",
      "source": [
        "[Funções](https://wiki.python.org.br/ExerciciosFuncoes)"
      ],
      "metadata": {
        "id": "NKl_12WBu6Fd"
      }
    },
    {
      "cell_type": "code",
      "source": [
        "def imprimir_triagulo_de_numeros(n:int):\n",
        "  for i in range(1, n+1):\n",
        "    for _ in range(i):\n",
        "     print(i,end= '   ')\n",
        "    print('')\n",
        "print('Triangulo com 1')\n",
        "imprimir_triagulo_de_numeros(1)\n",
        "print('Triangulo com 2')\n",
        "imprimir_triagulo_de_numeros(2)\n",
        "print('Triangulo com 3')\n",
        "imprimir_triagulo_de_numeros(3)\n",
        "  "
      ],
      "metadata": {
        "id": "QEmlTTyxu4p7"
      },
      "execution_count": null,
      "outputs": []
    },
    {
      "cell_type": "markdown",
      "source": [
        "Exercício 2"
      ],
      "metadata": {
        "id": "R9nmF5dO0_E_"
      }
    },
    {
      "cell_type": "code",
      "source": [
        "def imprimir_triagulo_de_numeros_crescentes(n:int): # refazer com  o  tempo \n",
        "  for linha in range(1, n+1):\n",
        "    for coluna in range(1, linha +1):\n",
        "     print(coluna ,end= '   ')\n",
        "    print('')\n",
        "print('Triangulo com 1')\n",
        "imprimir_triagulo_de_numeros_crescentes(1)\n",
        "print('Triangulo com 2')\n",
        "imprimir_triagulo_de_numeros_crescentes(2)\n",
        "print('Triangulo com 3')\n",
        "imprimir_triagulo_de_numeros_crescentes(3)\n",
        "  "
      ],
      "metadata": {
        "id": "fddv4htZ0-e8",
        "colab": {
          "base_uri": "https://localhost:8080/"
        },
        "outputId": "256b6f28-e073-475b-db95-95ec6fe8149e"
      },
      "execution_count": null,
      "outputs": [
        {
          "output_type": "stream",
          "name": "stdout",
          "text": [
            "Triangulo com 1\n",
            "1   \n",
            "Triangulo com 2\n",
            "1   \n",
            "1   2   \n",
            "Triangulo com 3\n",
            "1   \n",
            "1   2   \n",
            "1   2   3   \n"
          ]
        }
      ]
    },
    {
      "cell_type": "code",
      "source": [
        "# Estudo básico de Função\n",
        "def soma(*parcelas):\n",
        "  aux = 0\n",
        "  for valor in parcelas:\n",
        "    aux += valor\n",
        "  return aux\n",
        "soma(2,4,10)\n",
        "\n",
        "def f(*args, **kwargs):\n",
        "    print(*args,**kwargs)\n",
        "f(2,4,10,), {'nome': 'Gabriel', 'sobrenome' : 'Cunha'}"
      ],
      "metadata": {
        "id": "eCa67uS-4HAG"
      },
      "execution_count": null,
      "outputs": []
    },
    {
      "cell_type": "markdown",
      "source": [
        "[Exercício de Strings](https://wiki.python.org.br/ExerciciosComStrings)"
      ],
      "metadata": {
        "id": "ZYoQIJ7MAHJg"
      }
    },
    {
      "cell_type": "markdown",
      "source": [
        "Exercício 1"
      ],
      "metadata": {
        "id": "CeSCT--pAleO"
      }
    },
    {
      "cell_type": "code",
      "source": [
        "s1 = input('Digite uma string: ')\n",
        "s2 = input('Digite outra string: ')\n",
        "\n",
        "tamanho1 = len(s1)\n",
        "tamanho2 = len(s2)\n",
        "\n",
        "print(f'\"{s1}\": {tamanho1} caracteres')\n",
        "print(f'\"{s2}\": {tamanho2} caracteres')\n",
        "\n",
        "comparacao_de_tamanho = 'diferentes'\n",
        "comparacao_de_conteudo = 'diferente'\n",
        "\n",
        "if s1 == s2:\n",
        "  comparacao_de_tamanho = 'iguais'\n",
        "  comparacao_de_conteudo = 'igual'\n",
        "elif tamanho1 == tamanho2:\n",
        "  comparacao_de_tamanho = 'iguais'\n",
        "\n",
        "print(f'As duas strings são  de tamanhos {comparacao_de_tamanho}.')\n",
        "print(f'As duas strings são  possuem conteudo {comparacao_de_conteudo}.')"
      ],
      "metadata": {
        "id": "vZ61y9EPAeaS"
      },
      "execution_count": null,
      "outputs": []
    },
    {
      "cell_type": "markdown",
      "source": [
        "Exercício 2"
      ],
      "metadata": {
        "id": "nmTDYCF7wsQQ"
      }
    },
    {
      "cell_type": "code",
      "source": [
        "nome = 'Gabriel Henrique da Cunha'.upper()\n",
        "\n",
        "nome_invertido_por_letras = ''.join(reversed(nome))\n",
        "\n",
        "nome_invertido_por_palavras = ' '.join(reversed(nome.split()))\n",
        "\n",
        "print(f'Nome com letras em maiúsculo: {nome}')\n",
        "print(f'Nome com letras em maiúsculo invertido por letras: {nome_invertido_por_letras}')\n",
        "print(f'Nome com letras em maiúsculo invertido por palavras: {nome_invertido_por_palavras}')"
      ],
      "metadata": {
        "colab": {
          "base_uri": "https://localhost:8080/"
        },
        "id": "t1mqr5NhxYzG",
        "outputId": "3fdc2623-e84a-48b0-a9df-d9a3545fd5d7"
      },
      "execution_count": null,
      "outputs": [
        {
          "output_type": "stream",
          "name": "stdout",
          "text": [
            "Nome com letras em maiúsculo: GABRIEL HENRIQUE DA CUNHA\n",
            "Nome com letras em maiúsculo invertido por letras: AHNUC AD EUQIRNEH LEIRBAG\n",
            "Nome com letras em maiúsculo invertido por palavras: CUNHA DA HENRIQUE GABRIEL\n"
          ]
        }
      ]
    },
    {
      "cell_type": "markdown",
      "source": [
        "Exercício 5"
      ],
      "metadata": {
        "id": "ltoxcf4v00LG"
      }
    },
    {
      "cell_type": "code",
      "source": [
        "s = 'FULANO'\n",
        "while s != '':\n",
        "  print(s)\n",
        "  s = s[:-1]\n",
        "  "
      ],
      "metadata": {
        "colab": {
          "base_uri": "https://localhost:8080/"
        },
        "id": "Zbt6VGa009aq",
        "outputId": "1e451108-fa31-4f82-a8a3-6f5a1bf9c5c6"
      },
      "execution_count": null,
      "outputs": [
        {
          "output_type": "stream",
          "name": "stdout",
          "text": [
            "FULANO\n",
            "FULAN\n",
            "FULA\n",
            "FUL\n",
            "FU\n",
            "F\n"
          ]
        }
      ]
    },
    {
      "cell_type": "markdown",
      "source": [
        "Exercício 11"
      ],
      "metadata": {
        "id": "LrGOtq71D9O7"
      }
    },
    {
      "cell_type": "code",
      "source": [
        "palavra = 'DevPro'.upper()\n",
        "\n",
        "print('Jogo da Forca')\n",
        "print('Descubra a palavra')\n",
        "\n",
        "print('A palavra é:', end='')\n",
        "for letra in palavra:\n",
        "  print(f'_ ', end='')\n",
        "\n",
        "conjunto_letras_palavra = set(palavra)\n",
        "conjunto_letras_digitadas = set()\n",
        "erros = 0\n",
        "\n",
        "while not (conjunto_letras_palavra.issubset(conjunto_letras_digitadas)) and erros < 7:\n",
        "  print()\n",
        "  print()\n",
        "  letra_digitada = input('Digite uma letra: ').upper()\n",
        "  conjunto_letras_digitadas.add(letra_digitada)\n",
        "  if letra_digitada in conjunto_letras_palavra:\n",
        "    print('A palavra é:', end='')\n",
        "    for letra in palavra:\n",
        "      if letra in conjunto_letras_digitadas:\n",
        "        print(f'{letra} ', end='')\n",
        "      else:\n",
        "        print('_ ', end='')\n",
        "  else:\n",
        "    erros += 1\n",
        "    print(f'Você errou pela {erros} de 6. Tente de novo!')\n",
        " \n",
        "  print()\n",
        "  print('letras já digitadas: ', conjunto_letras_digitadas)    \n",
        "\n",
        "if erros < 7:\n",
        "  print('Parabèns você ganhou!')\n",
        "else:\n",
        "  print('Infelizmente você perdeu!')\n"
      ],
      "metadata": {
        "id": "ZjKBoJxPEI6o"
      },
      "execution_count": null,
      "outputs": []
    },
    {
      "cell_type": "markdown",
      "source": [
        "[Exercíco com Arquivos](https://wiki.python.org.br/ExerciciosArquivos)"
      ],
      "metadata": {
        "id": "BUuODQZIkOTO"
      }
    },
    {
      "cell_type": "markdown",
      "source": [
        "Exercício 1"
      ],
      "metadata": {
        "id": "BVtH6H6Ukll0"
      }
    },
    {
      "cell_type": "code",
      "source": [
        "def validar(ip:str) -> bool:\n",
        "  numeros = ip.split('.')\n",
        "\n",
        "  if len(numeros) != 4:\n",
        "    return False\n",
        "\n",
        "  for n in numeros:\n",
        "    if not (0 <= int(n) <= 255):\n",
        "      return False\n",
        "  return True\n",
        "\n",
        "ips_validos = []\n",
        "ips_invalidos = []\n",
        "with open('sample_data/ips.txt', 'r') as arquivo:\n",
        "  for linha in  arquivo:\n",
        "    ip = linha.strip()\n",
        "    if validar(ip):\n",
        "      ips_validos.append(ip)\n",
        "    else:\n",
        "      ips_invalidos.append(ip) \n",
        "\n",
        "\n",
        "with open('sample_data/ips_saida.txt', 'w') as arquivo:\n",
        "  arquivo.writelines('[Endereços Validos:]\\n')\n",
        "\n",
        "\n",
        "  for ip in ips_validos:\n",
        "    arquivo.writelines(f'{ip}:\\n')\n",
        "\n",
        "  arquivo.writelines('\\n')\n",
        "  arquivo.writelines('\\n')\n",
        "  arquivo.writelines('[Endereços Invalidos:]\\n')\n",
        "\n",
        "  for ip in ips_invalidos:\n",
        "    arquivo.writelines(f'{ip}:\\n')\n"
      ],
      "metadata": {
        "id": "DgLbarnPOhgm"
      },
      "execution_count": null,
      "outputs": []
    },
    {
      "cell_type": "markdown",
      "source": [
        "Exercício 2"
      ],
      "metadata": {
        "id": "mpMBAjqgCdqo"
      }
    },
    {
      "cell_type": "code",
      "source": [
        "lista_de_dados=[]\n",
        "\n",
        "def transformar_em_megabytes(tamanho_em_bytes:str) -> float:\n",
        "  return int(tamanho_em_bytes)/ (2**10) **2 \n",
        "\n",
        "\n",
        "with open('sample_data/usuarios.txt', 'r') as arquivo:\n",
        "  for linha in arquivo:\n",
        "    linha = linha.strip()\n",
        "    usuario = linha[:15]\n",
        "    tamanho_em_disco = transformar_em_megabytes(linha[16:])\n",
        "    lista_de_dados.append((usuario,tamanho_em_disco))\n",
        "\n",
        "cabecalho = '''ACME Inc.               Uso do espaço em disco pelos usuários\n",
        "------------------------------------------------------------------------\n",
        "Nr.  Usuário        Espaço utilizado     % do uso\n",
        "'''\n",
        "with open('sample_data/relatorio.txt', 'w') as arquivo:\n",
        "  tamanho_total_consumido = sum([tamanho for _,tamanho in lista_de_dados])\n",
        "  media = tamanho_total_consumido / len(lista_de_dados)\n",
        "  arquivo.writelines(cabecalho)\n",
        "  for indice, dados in enumerate(lista_de_dados, start=1):\n",
        "    usuario, tamanho_em_disco = dados\n",
        "    arquivo.writelines(\n",
        "        f'{indice:<4}    {usuario} {tamanho_em_disco:9.2f} MB      '\n",
        "        f'{tamanho_em_disco/tamanho_total_consumido:>6.2%}% \\n'\n",
        "        )\n",
        "\n",
        "  arquivo.writelines('\\n')\n",
        "  arquivo.writelines(f' tamanho_total_consumido : {tamanho_total_consumido:.2f} MB\\n')\n",
        "  arquivo.writelines(f'Espaço médio ocupado: {media:.2f} MB')"
      ],
      "metadata": {
        "id": "q--tM_gdIvhZ"
      },
      "execution_count": null,
      "outputs": []
    },
    {
      "cell_type": "markdown",
      "source": [
        "[Exercícios de Classes ](https://wiki.python.org.br/ExerciciosClasses)"
      ],
      "metadata": {
        "id": "cds8aL4sXC68"
      }
    },
    {
      "cell_type": "markdown",
      "source": [
        "Exercício 1\n"
      ],
      "metadata": {
        "id": "3SZb8IBcXYv5"
      }
    },
    {
      "cell_type": "code",
      "source": [
        "class Circulo :\n",
        "  def __init__(self):\n",
        "    self.cor = 'Azul'\n",
        "    self.circuferencia = 4\n",
        "    self.material = 'Aço'\n",
        "      \n",
        "\n",
        "\n",
        "  def mostra_cor(self, ):\n",
        "    return self.cor\n",
        "\n",
        "  def troca_cor(self, cor):\n",
        "    self.cor = cor \n",
        "\n",
        "circulo_primeiro = Circulo()\n",
        "print(id(circulo_primeiro), circulo_primeiro.mostra_cor())\n",
        "print(circulo_primeiro.cor)"
      ],
      "metadata": {
        "id": "v8krZIcEXXLj",
        "outputId": "2120dd01-0752-4eb6-f5be-d936e2d1f09a",
        "colab": {
          "base_uri": "https://localhost:8080/"
        }
      },
      "execution_count": null,
      "outputs": [
        {
          "output_type": "stream",
          "name": "stdout",
          "text": [
            "139676130647888 Azul\n",
            "Azul\n"
          ]
        }
      ]
    },
    {
      "cell_type": "markdown",
      "source": [
        "Exercício 2"
      ],
      "metadata": {
        "id": "GCjQe0rFdvHE"
      }
    },
    {
      "cell_type": "code",
      "source": [
        "class Quadrado:\n",
        "  def __init__(self, lado = 1):\n",
        "    self.lado = lado\n",
        "\n",
        "  def calcular_area(self):\n",
        "    return self.lado ** 2 \n",
        "\n",
        "quadrado = Quadrado (4)\n",
        "print(quadrado.lado, quadrado.calcular_area())\n",
        "      \n",
        " \n"
      ],
      "metadata": {
        "id": "bMZ68qsNdw77",
        "outputId": "feb1df5c-bcb1-4e8f-c5ee-78bf132da35a",
        "colab": {
          "base_uri": "https://localhost:8080/"
        }
      },
      "execution_count": null,
      "outputs": [
        {
          "output_type": "stream",
          "name": "stdout",
          "text": [
            "4 16\n"
          ]
        }
      ]
    }
  ]
}
